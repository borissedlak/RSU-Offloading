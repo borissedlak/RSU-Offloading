{
 "cells": [
  {
   "cell_type": "code",
   "id": "initial_id",
   "metadata": {
    "ExecuteTime": {
     "end_time": "2024-08-03T20:10:25.064924Z",
     "start_time": "2024-08-03T20:10:21.734802Z"
    }
   },
   "source": [
    "from mesa.experimental import JupyterViz\n",
    "\n",
    "from VanetTraceLoader import get_traces, VehicleTrace\n",
    "from render import make_render_station_load_chart, make_render_station_vehicle_count_chart, render_model_with_bg, \\\n",
    "    render_model_orientations, render_vehicle_loads\n",
    "from capacity_vanet import VECModel, get_grid, SEED, DefaultOffloadingStrategy, NearestRSUStrategy, \\\n",
    "    CRETEIL_4_RSU_HALF_CAPA_CONFIG, \\\n",
    "    StaticVehicleLoadGenerator, BEST_DEFAULT_CONFIG, DynamicVehicleLoadGenerator"
   ],
   "outputs": [],
   "execution_count": 1
  },
  {
   "cell_type": "code",
   "id": "22421e86a9161fe6",
   "metadata": {
    "ExecuteTime": {
     "end_time": "2024-08-03T20:10:30.428891Z",
     "start_time": "2024-08-03T20:10:25.069924Z"
    }
   },
   "source": [
    "page = JupyterViz(\n",
    "    VECModel,\n",
    "    model_params={\"rs_strategy\": DefaultOffloadingStrategy(**BEST_DEFAULT_CONFIG),\n",
    "                  \"rsu_configs\": CRETEIL_4_RSU_HALF_CAPA_CONFIG,\n",
    "                  \"vehicle_load_gen\": DynamicVehicleLoadGenerator(), \"traces\": get_traces(morning=True, eval=True),\n",
    "                  \"load_update_interval\": 1, \"start_at\": 0},\n",
    "    measures=[\n",
    "        render_model_with_bg(get_grid()),\n",
    "        render_model_orientations,\n",
    "        render_vehicle_loads,\n",
    "        make_render_station_load_chart(tail=100),\n",
    "        make_render_station_vehicle_count_chart(tail=100),\n",
    "        \"TotalSuccessfulHandoverCount\",\n",
    "        \"TotalFailedHandoverCount\",\n",
    "        \"AvgQoS\",\n",
    "        \"MinQoS\",\n",
    "        \"GiniLoad\",\n",
    "        \"VehicleCount\",\n",
    "    ],\n",
    "    name=\"VEC Model\",\n",
    "    space_drawer=False,\n",
    "    seed=SEED,\n",
    ")\n",
    "\n",
    "# This is required to render the visualization in the Jupyter notebook\n",
    "page"
   ],
   "outputs": [
    {
     "data": {
      "text/plain": [
       "Cannot show ipywidgets in text"
      ],
      "text/html": [
       "Cannot show widget. You probably want to rerun the code cell above (<i>Click in the code cell, and press Shift+Enter <kbd>⇧</kbd>+<kbd>↩</kbd></i>)."
      ],
      "application/vnd.jupyter.widget-view+json": {
       "version_major": 2,
       "version_minor": 0,
       "model_id": "2faf0f25ad32449d9660c01f912463b7"
      }
     },
     "metadata": {},
     "output_type": "display_data"
    }
   ],
   "execution_count": 2
  },
  {
   "metadata": {},
   "cell_type": "code",
   "outputs": [],
   "execution_count": null,
   "source": "",
   "id": "9faeddcea111113"
  }
 ],
 "metadata": {
  "kernelspec": {
   "display_name": "Python 3 (ipykernel)",
   "language": "python",
   "name": "python3"
  },
  "language_info": {
   "codemirror_mode": {
    "name": "ipython",
    "version": 3
   },
   "file_extension": ".py",
   "mimetype": "text/x-python",
   "name": "python",
   "nbconvert_exporter": "python",
   "pygments_lexer": "ipython3",
   "version": "3.10.9"
  }
 },
 "nbformat": 4,
 "nbformat_minor": 5
}
