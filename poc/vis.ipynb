{
 "cells": [
  {
   "cell_type": "code",
   "execution_count": 3,
   "id": "initial_id",
   "metadata": {
    "ExecuteTime": {
     "end_time": "2024-09-04T10:51:11.821930Z",
     "start_time": "2024-09-04T10:51:09.922779Z"
    }
   },
   "outputs": [],
   "source": [
    "from mesa.experimental import JupyterViz\n",
    "\n",
    "from poc.VanetTraceLoader import get_traces, get_grid\n",
    "from poc.model import VECModel\n",
    "from poc.render import make_render_station_load_chart, make_render_station_vehicle_count_chart, render_model_with_bg, \\\n",
    "    render_model_orientations, render_vehicle_loads\n",
    "from poc.scenarios import CRETEIL_4_RSU_HALF_CAPA_CONFIG\n",
    "from poc.simulation_runner import SEED, BEST_DEFAULT_CONFIG, STEPS_PER_SECOND\n",
    "from poc.strategies import DefaultOffloadingStrategy, DynamicVehicleLoadGenerator"
   ]
  },
  {
   "cell_type": "code",
   "execution_count": 4,
   "id": "22421e86a9161fe6",
   "metadata": {
    "ExecuteTime": {
     "end_time": "2024-09-04T10:51:14.486275Z",
     "start_time": "2024-09-04T10:51:13.653038Z"
    }
   },
   "outputs": [
    {
     "data": {
      "application/vnd.jupyter.widget-view+json": {
       "model_id": "613bd51801cc474d85ee66ebc2361072",
       "version_major": 2,
       "version_minor": 0
      },
      "text/html": [
       "Cannot show widget. You probably want to rerun the code cell above (<i>Click in the code cell, and press Shift+Enter <kbd>⇧</kbd>+<kbd>↩</kbd></i>)."
      ],
      "text/plain": [
       "Cannot show ipywidgets in text"
      ]
     },
     "metadata": {},
     "output_type": "display_data"
    }
   ],
   "source": [
    "page = JupyterViz(\n",
    "    VECModel,\n",
    "    model_params={\"rs_strategy\": DefaultOffloadingStrategy(**BEST_DEFAULT_CONFIG),\n",
    "                  \"rsu_configs\": CRETEIL_4_RSU_HALF_CAPA_CONFIG,\n",
    "                  \"vehicle_load_gen\": DynamicVehicleLoadGenerator(), \"traces\": get_traces(morning=True, eval=True),\n",
    "                  \"steps_per_second\": STEPS_PER_SECOND, \"load_update_interval\": 1, \"start_at\": 0},\n",
    "    measures=[\n",
    "        render_model_with_bg(get_grid()),\n",
    "        render_model_orientations,\n",
    "        render_vehicle_loads,\n",
    "        make_render_station_load_chart(tail=100),\n",
    "        make_render_station_vehicle_count_chart(tail=100),\n",
    "        \"TotalSuccessfulHandoverCount\",\n",
    "        \"TotalFailedHandoverCount\",\n",
    "        \"AvgQoS\",\n",
    "        \"MinQoS\",\n",
    "        \"GiniLoad\",\n",
    "        \"VehicleCount\",\n",
    "    ],\n",
    "    name=\"VEC Model\",\n",
    "    space_drawer=False,\n",
    "    seed=SEED,\n",
    ")\n",
    "\n",
    "# This is required to render the visualization in the Jupyter notebook\n",
    "page"
   ]
  },
  {
   "cell_type": "code",
   "execution_count": null,
   "id": "9faeddcea111113",
   "metadata": {},
   "outputs": [],
   "source": []
  }
 ],
 "metadata": {
  "kernelspec": {
   "display_name": "Python 3 (ipykernel)",
   "language": "python",
   "name": "python3"
  },
  "language_info": {
   "codemirror_mode": {
    "name": "ipython",
    "version": 3
   },
   "file_extension": ".py",
   "mimetype": "text/x-python",
   "name": "python",
   "nbconvert_exporter": "python",
   "pygments_lexer": "ipython3",
   "version": "3.12.4"
  }
 },
 "nbformat": 4,
 "nbformat_minor": 5
}
