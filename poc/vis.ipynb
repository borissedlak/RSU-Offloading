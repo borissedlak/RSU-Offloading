{
 "cells": [
  {
   "cell_type": "code",
   "execution_count": 1,
   "id": "initial_id",
   "metadata": {},
   "outputs": [],
   "source": [
    "from mesa.experimental import JupyterViz\n",
    "\n",
    "from poc.simple import VECModel, VehicleAgent, VECStationAgent, VEC_STATION_COLORS, render_distance_chart\n"
   ]
  },
  {
   "cell_type": "code",
   "execution_count": 2,
   "id": "376e6a63694634ee",
   "metadata": {
    "collapsed": false,
    "jupyter": {
     "outputs_hidden": false
    }
   },
   "outputs": [],
   "source": [
    "def agent_portrayal(agent):\n",
    "    # Render vehicle agent\n",
    "    if isinstance(agent, VehicleAgent):\n",
    "        return {\n",
    "            \"color\": VEC_STATION_COLORS[agent.station.unique_id],\n",
    "            \"size\": 50,\n",
    "        }\n",
    "\n",
    "    # Render VEC station agent\n",
    "    if isinstance(agent, VECStationAgent):\n",
    "        portrayal = {\n",
    "            \"shape\": \"rect\",\n",
    "            \"color\": VEC_STATION_COLORS[agent.unique_id],\n",
    "            \"filled\": \"true\",\n",
    "            \"layer\": 0,\n",
    "            \"w\": 1,\n",
    "            \"h\": 1,\n",
    "        }\n",
    "        return portrayal\n",
    "\n",
    "    assert False"
   ]
  },
  {
   "cell_type": "code",
   "execution_count": 3,
   "id": "4da95cb2585f62be",
   "metadata": {
    "collapsed": false,
    "jupyter": {
     "outputs_hidden": false
    }
   },
   "outputs": [],
   "source": [
    "import solara\n",
    "from matplotlib.figure import Figure\n",
    "from matplotlib.patches import Rectangle, Circle\n",
    "\n",
    "\n",
    "def render_model(model):\n",
    "    fig = Figure()\n",
    "    ax = fig.subplots()\n",
    "\n",
    "    min_x = min(waypoint[0] for waypoint in model.waypoints)\n",
    "    max_x = max(waypoint[0] for waypoint in model.waypoints)\n",
    "    min_y = min(waypoint[1] for waypoint in model.waypoints)\n",
    "    max_y = max(waypoint[1] for waypoint in model.waypoints)\n",
    "    road_width = max_x - min_x\n",
    "    road_height = max_y - min_y\n",
    "\n",
    "    # Draw the road\n",
    "    road = Rectangle((min_x, min_y), road_width, road_height, linewidth=3, edgecolor='gray', facecolor='none')\n",
    "    ax.add_patch(road)\n",
    "\n",
    "    # Draw all agents\n",
    "    for agent in model.agents:\n",
    "        if isinstance(agent, VehicleAgent):\n",
    "            ax.add_patch(Circle(agent.pos, 3, facecolor=VEC_STATION_COLORS[agent.station.unique_id], edgecolor='black'))\n",
    "        elif isinstance(agent, VECStationAgent):\n",
    "            color = VEC_STATION_COLORS[agent.unique_id]\n",
    "            ax.add_patch(Rectangle((agent.pos[0] - 3, agent.pos[1] - 3), 6, 6, facecolor=color))\n",
    "            range_circle = Circle(agent.pos, agent.range, color=color, fill=False, linestyle='--')\n",
    "            ax.add_patch(range_circle)\n",
    "            range_circle = Circle(agent.pos, agent.threshold * agent.range, color=color, fill=False, linestyle='--', alpha=0.5)\n",
    "            ax.add_patch(range_circle)\n",
    "\n",
    "    ax.set_xlim(0, model.width)\n",
    "    ax.set_ylim(0, model.height)\n",
    "\n",
    "    solara.FigureMatplotlib(fig)"
   ]
  },
  {
   "cell_type": "code",
   "execution_count": 4,
   "id": "22421e86a9161fe6",
   "metadata": {
    "collapsed": false,
    "jupyter": {
     "outputs_hidden": false
    }
   },
   "outputs": [
    {
     "data": {
      "application/vnd.jupyter.widget-view+json": {
       "model_id": "ed151245ba9040b197cff69501dfc453",
       "version_major": 2,
       "version_minor": 0
      },
      "text/html": [
       "Cannot show widget. You probably want to rerun the code cell above (<i>Click in the code cell, and press Shift+Enter <kbd>⇧</kbd>+<kbd>↩</kbd></i>)."
      ],
      "text/plain": [
       "Cannot show ipywidgets in text"
      ]
     },
     "metadata": {},
     "output_type": "display_data"
    }
   ],
   "source": [
    "page = JupyterViz(\n",
    "    VECModel,\n",
    "    model_params={\"width\": 100, \"height\": 80, \"speed\": 40},\n",
    "    measures=[render_model, render_distance_chart],\n",
    "    name=\"VEC Model\",\n",
    "    agent_portrayal=agent_portrayal,\n",
    ")\n",
    "\n",
    "# This is required to render the visualization in the Jupyter notebook\n",
    "page"
   ]
  },
  {
   "cell_type": "code",
   "execution_count": null,
   "id": "108ebad102cbf107",
   "metadata": {
    "collapsed": false,
    "jupyter": {
     "outputs_hidden": false
    }
   },
   "outputs": [],
   "source": []
  }
 ],
 "metadata": {
  "kernelspec": {
   "display_name": "Python 3 (ipykernel)",
   "language": "python",
   "name": "python3"
  },
  "language_info": {
   "codemirror_mode": {
    "name": "ipython",
    "version": 3
   },
   "file_extension": ".py",
   "mimetype": "text/x-python",
   "name": "python",
   "nbconvert_exporter": "python",
   "pygments_lexer": "ipython3",
   "version": "3.11.5"
  }
 },
 "nbformat": 4,
 "nbformat_minor": 5
}
