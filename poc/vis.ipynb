{
 "cells": [
  {
   "cell_type": "code",
   "id": "initial_id",
   "metadata": {
    "ExecuteTime": {
     "end_time": "2024-07-16T10:43:49.730841Z",
     "start_time": "2024-07-16T10:43:48.164464Z"
    }
   },
   "source": [
    "from mesa.experimental import JupyterViz\n",
    "\n",
    "from render import make_render_station_vehicle_count_chart, render_model_with_bg, render_model_orientations\n",
    "from capacity_vanet import VECModel, get_grid, SEED"
   ],
   "outputs": [],
   "execution_count": 1
  },
  {
   "cell_type": "code",
   "id": "22421e86a9161fe6",
   "metadata": {
    "ExecuteTime": {
     "end_time": "2024-07-16T10:44:37.951390Z",
     "start_time": "2024-07-16T10:44:37.939949Z"
    }
   },
   "source": [
    "page = JupyterViz(\n",
    "    VECModel,\n",
    "    model_params={\"max_capacity\": 25, \"load_update_interval\": 1, \"start_at\": 100},\n",
    "    measures=[\n",
    "        render_model_with_bg(get_grid()),\n",
    "        make_render_station_vehicle_count_chart(tail=100),\n",
    "        #render_model_orientations,\n",
    "        \"TotalSuccessfulHandoverCount\",\n",
    "        \"TotalFailedHandoverCount\",\n",
    "        \"AvgQoS\",\n",
    "        \"MinQoS\",\n",
    "        \"GiniLoad\",\n",
    "    ],\n",
    "    name=\"VEC Model\",\n",
    "    space_drawer=False,\n",
    "    seed=SEED,\n",
    ")\n",
    "\n",
    "# This is required to render the visualization in the Jupyter notebook\n",
    "page"
   ],
   "outputs": [
    {
     "ename": "SyntaxError",
     "evalue": "':' expected after dictionary key (3613900165.py, line 3)",
     "output_type": "error",
     "traceback": [
      "\u001B[1;36m  Cell \u001B[1;32mIn[3], line 3\u001B[1;36m\u001B[0m\n\u001B[1;33m    model_params={\"max_capacity\": 25, \"load_update_interval\": 1, \"start_at: 100\"},\u001B[0m\n\u001B[1;37m                                                                               ^\u001B[0m\n\u001B[1;31mSyntaxError\u001B[0m\u001B[1;31m:\u001B[0m ':' expected after dictionary key\n"
     ]
    }
   ],
   "execution_count": 3
  },
  {
   "cell_type": "code",
   "execution_count": null,
   "id": "108ebad102cbf107",
   "metadata": {
    "collapsed": false,
    "jupyter": {
     "outputs_hidden": false
    }
   },
   "outputs": [],
   "source": []
  }
 ],
 "metadata": {
  "kernelspec": {
   "display_name": "Python 3 (ipykernel)",
   "language": "python",
   "name": "python3"
  },
  "language_info": {
   "codemirror_mode": {
    "name": "ipython",
    "version": 3
   },
   "file_extension": ".py",
   "mimetype": "text/x-python",
   "name": "python",
   "nbconvert_exporter": "python",
   "pygments_lexer": "ipython3",
   "version": "3.10.9"
  }
 },
 "nbformat": 4,
 "nbformat_minor": 5
}
