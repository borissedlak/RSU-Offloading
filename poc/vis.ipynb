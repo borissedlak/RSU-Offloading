{
 "cells": [
  {
   "cell_type": "code",
   "id": "initial_id",
   "metadata": {
    "ExecuteTime": {
     "end_time": "2024-07-11T06:10:34.356481Z",
     "start_time": "2024-07-11T06:10:31.109729Z"
    }
   },
   "source": [
    "from mesa.experimental import JupyterViz\n",
    "\n",
    "from render import make_render_station_vehicle_count_chart, render_model_with_bg, render_model_orientations\n",
    "from capacity_vanet import VECModel, get_grid"
   ],
   "outputs": [],
   "execution_count": 1
  },
  {
   "cell_type": "code",
   "id": "22421e86a9161fe6",
   "metadata": {
    "ExecuteTime": {
     "end_time": "2024-07-11T06:10:38.680490Z",
     "start_time": "2024-07-11T06:10:34.360492Z"
    }
   },
   "source": [
    "page = JupyterViz(\n",
    "    VECModel,\n",
    "    #model_params={\"width\": 100, \"height\": 80, \"speed\": 40},\n",
    "    model_params={\"width\": 200, \"height\": 200, \"speed\": 40, \"max_capacity\": 25},\n",
    "    measures=[\n",
    "        # render_model,\n",
    "        render_model_with_bg(get_grid()),\n",
    "        # render_distance_chart, \n",
    "        make_render_station_vehicle_count_chart(tail=100),\n",
    "        #render_model_orientations,\n",
    "        \"TotalSuccessfulHandoverCount\",\n",
    "        \"TotalFailedHandoverCount\",\n",
    "        \"AvgQoS\",\n",
    "        \"MinQoS\",\n",
    "        \"GiniLoad\",\n",
    "    ],\n",
    "    name=\"VEC Model\",\n",
    "    # agent_portrayal=agent_portrayal,\n",
    "    space_drawer=False,\n",
    ")\n",
    "\n",
    "# This is required to render the visualization in the Jupyter notebook\n",
    "page"
   ],
   "outputs": [
    {
     "data": {
      "text/plain": [
       "Cannot show ipywidgets in text"
      ],
      "text/html": [
       "Cannot show widget. You probably want to rerun the code cell above (<i>Click in the code cell, and press Shift+Enter <kbd>⇧</kbd>+<kbd>↩</kbd></i>)."
      ],
      "application/vnd.jupyter.widget-view+json": {
       "version_major": 2,
       "version_minor": 0,
       "model_id": "43f86eec6d714d12bc7c7b6a7eb76b54"
      }
     },
     "metadata": {},
     "output_type": "display_data"
    }
   ],
   "execution_count": 2
  },
  {
   "cell_type": "code",
   "execution_count": 2,
   "id": "108ebad102cbf107",
   "metadata": {
    "collapsed": false,
    "jupyter": {
     "outputs_hidden": false
    }
   },
   "outputs": [],
   "source": []
  }
 ],
 "metadata": {
  "kernelspec": {
   "display_name": "Python 3 (ipykernel)",
   "language": "python",
   "name": "python3"
  },
  "language_info": {
   "codemirror_mode": {
    "name": "ipython",
    "version": 3
   },
   "file_extension": ".py",
   "mimetype": "text/x-python",
   "name": "python",
   "nbconvert_exporter": "python",
   "pygments_lexer": "ipython3",
   "version": "3.10.9"
  }
 },
 "nbformat": 4,
 "nbformat_minor": 5
}
