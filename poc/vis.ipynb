{
 "cells": [
  {
   "cell_type": "code",
   "id": "initial_id",
   "metadata": {
    "ExecuteTime": {
     "end_time": "2024-07-24T07:35:45.617038Z",
     "start_time": "2024-07-24T07:35:45.611279Z"
    }
   },
   "source": [
    "from mesa.experimental import JupyterViz\n",
    "\n",
    "from render import make_render_station_vehicle_count_chart, render_model_with_bg, render_model_orientations\n",
    "from capacity_vanet import VECModel, get_grid, SEED, DefaultOffloadingStrategy"
   ],
   "outputs": [],
   "execution_count": 5
  },
  {
   "cell_type": "code",
   "id": "22421e86a9161fe6",
   "metadata": {
    "ExecuteTime": {
     "end_time": "2024-07-24T07:35:49.342563Z",
     "start_time": "2024-07-24T07:35:45.964827Z"
    }
   },
   "source": [
    "page = JupyterViz(\n",
    "    VECModel,\n",
    "    model_params={\"rs_strategy\": DefaultOffloadingStrategy(), \"max_capacity\": 25, \"load_update_interval\": 1, \"start_at\": 100},\n",
    "    measures=[\n",
    "        render_model_with_bg(get_grid()),\n",
    "        make_render_station_vehicle_count_chart(tail=100),\n",
    "        #render_model_orientations,\n",
    "        \"TotalSuccessfulHandoverCount\",\n",
    "        \"TotalFailedHandoverCount\",\n",
    "        \"AvgQoS\",\n",
    "        \"MinQoS\",\n",
    "        \"GiniLoad\",\n",
    "    ],\n",
    "    name=\"VEC Model\",\n",
    "    space_drawer=False,\n",
    "    seed=SEED,\n",
    ")\n",
    "\n",
    "# This is required to render the visualization in the Jupyter notebook\n",
    "page"
   ],
   "outputs": [
    {
     "data": {
      "text/plain": [
       "Cannot show ipywidgets in text"
      ],
      "text/html": [
       "Cannot show widget. You probably want to rerun the code cell above (<i>Click in the code cell, and press Shift+Enter <kbd>⇧</kbd>+<kbd>↩</kbd></i>)."
      ],
      "application/vnd.jupyter.widget-view+json": {
       "version_major": 2,
       "version_minor": 0,
       "model_id": "a645be7da5334a10ac39556735cf4cf8"
      }
     },
     "metadata": {},
     "output_type": "display_data"
    }
   ],
   "execution_count": 6
  },
  {
   "cell_type": "code",
   "id": "108ebad102cbf107",
   "metadata": {
    "collapsed": false,
    "jupyter": {
     "outputs_hidden": false
    },
    "ExecuteTime": {
     "end_time": "2024-07-24T07:34:45.394557Z",
     "start_time": "2024-07-24T07:34:45.393555Z"
    }
   },
   "source": [],
   "outputs": [],
   "execution_count": null
  }
 ],
 "metadata": {
  "kernelspec": {
   "display_name": "Python 3 (ipykernel)",
   "language": "python",
   "name": "python3"
  },
  "language_info": {
   "codemirror_mode": {
    "name": "ipython",
    "version": 3
   },
   "file_extension": ".py",
   "mimetype": "text/x-python",
   "name": "python",
   "nbconvert_exporter": "python",
   "pygments_lexer": "ipython3",
   "version": "3.10.9"
  }
 },
 "nbformat": 4,
 "nbformat_minor": 5
}
