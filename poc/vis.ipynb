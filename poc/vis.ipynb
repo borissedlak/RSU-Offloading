{
 "cells": [
  {
   "cell_type": "code",
   "execution_count": 1,
   "id": "initial_id",
   "metadata": {
    "ExecuteTime": {
     "end_time": "2024-07-12T09:37:53.138943Z",
     "start_time": "2024-07-12T09:37:50.939473Z"
    }
   },
   "outputs": [],
   "source": [
    "from mesa.experimental import JupyterViz\n",
    "\n",
    "from render import make_render_station_vehicle_count_chart, render_model_with_bg, render_model_orientations\n",
    "from capacity_vanet import VECModel, get_grid, SEED"
   ]
  },
  {
   "cell_type": "code",
   "execution_count": 2,
   "id": "22421e86a9161fe6",
   "metadata": {
    "ExecuteTime": {
     "end_time": "2024-07-12T09:37:55.745759Z",
     "start_time": "2024-07-12T09:37:53.141949Z"
    }
   },
   "outputs": [
    {
     "data": {
      "application/vnd.jupyter.widget-view+json": {
       "model_id": "b944d7d049f44726bf75daed643b4661",
       "version_major": 2,
       "version_minor": 0
      },
      "text/html": [
       "Cannot show widget. You probably want to rerun the code cell above (<i>Click in the code cell, and press Shift+Enter <kbd>⇧</kbd>+<kbd>↩</kbd></i>)."
      ],
      "text/plain": [
       "Cannot show ipywidgets in text"
      ]
     },
     "metadata": {},
     "output_type": "display_data"
    }
   ],
   "source": [
    "page = JupyterViz(\n",
    "    VECModel,\n",
    "    model_params={\"max_capacity\": 25, \"load_update_interval\": 1},\n",
    "    measures=[\n",
    "        render_model_with_bg(get_grid()),\n",
    "        make_render_station_vehicle_count_chart(tail=100),\n",
    "        #render_model_orientations,\n",
    "        \"TotalSuccessfulHandoverCount\",\n",
    "        \"TotalFailedHandoverCount\",\n",
    "        \"AvgQoS\",\n",
    "        \"MinQoS\",\n",
    "        \"GiniLoad\",\n",
    "    ],\n",
    "    name=\"VEC Model\",\n",
    "    space_drawer=False,\n",
    "    seed=SEED,\n",
    ")\n",
    "\n",
    "# This is required to render the visualization in the Jupyter notebook\n",
    "page"
   ]
  },
  {
   "cell_type": "code",
   "execution_count": null,
   "id": "108ebad102cbf107",
   "metadata": {
    "collapsed": false,
    "jupyter": {
     "outputs_hidden": false
    }
   },
   "outputs": [],
   "source": []
  }
 ],
 "metadata": {
  "kernelspec": {
   "display_name": "Python 3 (ipykernel)",
   "language": "python",
   "name": "python3"
  },
  "language_info": {
   "codemirror_mode": {
    "name": "ipython",
    "version": 3
   },
   "file_extension": ".py",
   "mimetype": "text/x-python",
   "name": "python",
   "nbconvert_exporter": "python",
   "pygments_lexer": "ipython3",
   "version": "3.10.9"
  }
 },
 "nbformat": 4,
 "nbformat_minor": 5
}
