{
 "cells": [
  {
   "cell_type": "code",
   "execution_count": 1,
   "id": "initial_id",
   "metadata": {
    "ExecuteTime": {
     "end_time": "2024-06-05T22:13:42.264841Z",
     "start_time": "2024-06-05T22:13:36.227800Z"
    }
   },
   "outputs": [],
   "source": [
    "from mesa.experimental import JupyterViz\n",
    "\n",
    "from render import render_model, render_distance_chart, make_render_station_vehicle_count_chart, agent_portrayal, render_model_with_bg\n",
    "from capacity_vanet import VECModel, GRID"
   ]
  },
  {
   "cell_type": "code",
   "execution_count": 2,
   "id": "22421e86a9161fe6",
   "metadata": {
    "ExecuteTime": {
     "end_time": "2024-05-04T20:55:03.555442Z",
     "start_time": "2024-05-04T20:55:02.677964Z"
    }
   },
   "outputs": [
    {
     "data": {
      "application/vnd.jupyter.widget-view+json": {
       "model_id": "b2d0516cacae4af69b3bc61945ed3a3e",
       "version_major": 2,
       "version_minor": 0
      },
      "text/html": [
       "Cannot show widget. You probably want to rerun the code cell above (<i>Click in the code cell, and press Shift+Enter <kbd>⇧</kbd>+<kbd>↩</kbd></i>)."
      ],
      "text/plain": [
       "Cannot show ipywidgets in text"
      ]
     },
     "metadata": {},
     "output_type": "display_data"
    }
   ],
   "source": [
    "page = JupyterViz(\n",
    "    VECModel,\n",
    "    #model_params={\"width\": 100, \"height\": 80, \"speed\": 40},\n",
    "    model_params={\"width\": 200, \"height\": 200, \"speed\": 40, \"max_capacity\": 25},\n",
    "    measures=[\n",
    "        # render_model,\n",
    "        render_model_with_bg(GRID),\n",
    "        # render_distance_chart, \n",
    "        make_render_station_vehicle_count_chart(tail=100)],\n",
    "    name=\"VEC Model\",\n",
    "    # agent_portrayal=agent_portrayal,\n",
    "    space_drawer=False,\n",
    ")\n",
    "\n",
    "# TODO check basic vis plot when upgrading to mesa 2.3.1\n",
    "\n",
    "# This is required to render the visualization in the Jupyter notebook\n",
    "page"
   ]
  },
  {
   "cell_type": "code",
   "execution_count": null,
   "id": "108ebad102cbf107",
   "metadata": {
    "collapsed": false,
    "jupyter": {
     "outputs_hidden": false
    }
   },
   "outputs": [],
   "source": []
  }
 ],
 "metadata": {
  "kernelspec": {
   "display_name": "Python 3 (ipykernel)",
   "language": "python",
   "name": "python3"
  },
  "language_info": {
   "codemirror_mode": {
    "name": "ipython",
    "version": 3
   },
   "file_extension": ".py",
   "mimetype": "text/x-python",
   "name": "python",
   "nbconvert_exporter": "python",
   "pygments_lexer": "ipython3",
   "version": "3.11.5"
  }
 },
 "nbformat": 4,
 "nbformat_minor": 5
}
