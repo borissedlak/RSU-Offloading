{
 "cells": [
  {
   "cell_type": "code",
   "execution_count": null,
   "id": "initial_id",
   "metadata": {},
   "outputs": [],
   "source": [
    "from mesa.experimental import JupyterViz\n",
    "\n",
    "from poc.render import render_model, render_distance_chart, render_station_vehicle_count_chart, agent_portrayal\n",
    "from poc.simple import VECModel"
   ]
  },
  {
   "cell_type": "code",
   "execution_count": null,
   "id": "22421e86a9161fe6",
   "metadata": {
    "collapsed": false
   },
   "outputs": [],
   "source": [
    "page = JupyterViz(\n",
    "    VECModel,\n",
    "    model_params={\"width\": 100, \"height\": 80, \"speed\": 40},\n",
    "    measures=[render_model, render_distance_chart, render_station_vehicle_count_chart],\n",
    "    name=\"VEC Model\",\n",
    "    agent_portrayal=agent_portrayal,\n",
    ")\n",
    "\n",
    "# This is required to render the visualization in the Jupyter notebook\n",
    "page"
   ]
  },
  {
   "cell_type": "code",
   "execution_count": null,
   "id": "108ebad102cbf107",
   "metadata": {
    "collapsed": false
   },
   "outputs": [],
   "source": []
  }
 ],
 "metadata": {
  "kernelspec": {
   "display_name": "Python 3 (ipykernel)",
   "language": "python",
   "name": "python3"
  },
  "language_info": {
   "codemirror_mode": {
    "name": "ipython",
    "version": 3
   },
   "file_extension": ".py",
   "mimetype": "text/x-python",
   "name": "python",
   "nbconvert_exporter": "python",
   "pygments_lexer": "ipython3",
   "version": "3.11.5"
  }
 },
 "nbformat": 4,
 "nbformat_minor": 5
}
