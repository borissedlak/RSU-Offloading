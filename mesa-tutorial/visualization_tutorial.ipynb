{
 "cells": [
  {
   "cell_type": "code",
   "execution_count": null,
   "id": "initial_id",
   "metadata": {},
   "outputs": [],
   "source": [
    "%pip install --quiet mesa\n",
    "import mesa\n",
    "\n",
    "# You can either define the BoltzmannWealthModel (aka MoneyModel) or install mesa-models:\n",
    "%pip install --quiet -U git+https://github.com/projectmesa/mesa-examples#egg=mesa-models\n",
    "\n",
    "from mesa_models.boltzmann_wealth_model.model import BoltzmannWealthModel\n"
   ]
  },
  {
   "cell_type": "code",
   "execution_count": null,
   "id": "7701e307ba96520c",
   "metadata": {
    "collapsed": false
   },
   "outputs": [],
   "source": [
    "def agent_portrayal(agent):\n",
    "    return {\n",
    "        \"color\": \"tab:blue\",\n",
    "        \"size\": 50,\n",
    "    }\n"
   ]
  },
  {
   "cell_type": "code",
   "execution_count": null,
   "id": "433c38748312c8f",
   "metadata": {
    "collapsed": false
   },
   "outputs": [],
   "source": [
    "model_params = {\n",
    "    \"N\": {\n",
    "        \"type\": \"SliderInt\",\n",
    "        \"value\": 50,\n",
    "        \"label\": \"Number of agents:\",\n",
    "        \"min\": 10,\n",
    "        \"max\": 100,\n",
    "        \"step\": 1,\n",
    "    },\n",
    "    \"width\": 20,\n",
    "    \"height\": 20,\n",
    "}\n"
   ]
  },
  {
   "cell_type": "code",
   "execution_count": null,
   "id": "8d2cb5df3c34006e",
   "metadata": {
    "collapsed": false
   },
   "outputs": [],
   "source": [
    "from mesa.experimental import JupyterViz\n",
    "\n",
    "page = JupyterViz(\n",
    "    BoltzmannWealthModel,\n",
    "    model_params,\n",
    "    measures=[\"Gini\"],\n",
    "    name=\"Money Model\",\n",
    "    agent_portrayal=agent_portrayal,\n",
    ")\n",
    "# This is required to render the visualization in the Jupyter notebook\n",
    "page\n"
   ]
  },
  {
   "cell_type": "markdown",
   "id": "80ecd7d9e8fef993",
   "metadata": {
    "collapsed": false
   },
   "source": [
    "## Changing the Agents"
   ]
  },
  {
   "cell_type": "code",
   "execution_count": null,
   "id": "27f209352e691cb0",
   "metadata": {
    "collapsed": false
   },
   "outputs": [],
   "source": [
    "def agent_portrayal(agent):\n",
    "    size = 10\n",
    "    color = \"tab:red\"\n",
    "    if agent.wealth > 0:\n",
    "        size = 50\n",
    "        color = \"tab:blue\"\n",
    "    return {\"size\": size, \"color\": color}\n"
   ]
  },
  {
   "cell_type": "code",
   "execution_count": null,
   "id": "9f43c1c46419ad97",
   "metadata": {
    "collapsed": false
   },
   "outputs": [],
   "source": [
    "page = JupyterViz(\n",
    "    BoltzmannWealthModel,\n",
    "    model_params,\n",
    "    measures=[\"Gini\"],\n",
    "    name=\"Money Model\",\n",
    "    agent_portrayal=agent_portrayal,\n",
    ")\n",
    "# This is required to render the visualization in the Jupyter notebook\n",
    "page\n"
   ]
  },
  {
   "cell_type": "markdown",
   "id": "a80b841c54b7d97f",
   "metadata": {
    "collapsed": false
   },
   "source": [
    "## Own Visualization Component"
   ]
  },
  {
   "cell_type": "code",
   "execution_count": null,
   "id": "a0f752cd69e0c990",
   "metadata": {
    "collapsed": false
   },
   "outputs": [],
   "source": [
    "import solara\n",
    "from matplotlib.figure import Figure\n",
    "\n",
    "\n",
    "def make_histogram(model):\n",
    "    # Note: you must initialize a figure using this method instead of\n",
    "    # plt.figure(), for thread safety purpose\n",
    "    fig = Figure()\n",
    "    ax = fig.subplots()\n",
    "    wealth_vals = [agent.wealth for agent in model.schedule.agents]\n",
    "    # Note: you have to use Matplotlib's OOP API instead of plt.hist\n",
    "    # because plt.hist is not thread-safe.\n",
    "    ax.hist(wealth_vals, bins=10)\n",
    "    solara.FigureMatplotlib(fig)\n"
   ]
  },
  {
   "cell_type": "code",
   "execution_count": null,
   "id": "6c344e2290b268eb",
   "metadata": {
    "collapsed": false
   },
   "outputs": [],
   "source": [
    "page = JupyterViz(\n",
    "    BoltzmannWealthModel,\n",
    "    model_params,\n",
    "    measures=[\"Gini\", make_histogram],\n",
    "    name=\"Money Model\",\n",
    "    agent_portrayal=agent_portrayal,\n",
    ")\n",
    "# This is required to render the visualization in the Jupyter notebook\n",
    "page\n"
   ]
  },
  {
   "cell_type": "code",
   "execution_count": null,
   "id": "7423125f-26bd-4de6-8122-f79c1b793f2b",
   "metadata": {},
   "outputs": [],
   "source": []
  }
 ],
 "metadata": {
  "kernelspec": {
   "display_name": "Python 3 (ipykernel)",
   "language": "python",
   "name": "python3"
  },
  "language_info": {
   "codemirror_mode": {
    "name": "ipython",
    "version": 3
   },
   "file_extension": ".py",
   "mimetype": "text/x-python",
   "name": "python",
   "nbconvert_exporter": "python",
   "pygments_lexer": "ipython3",
   "version": "3.11.5"
  }
 },
 "nbformat": 4,
 "nbformat_minor": 5
}
